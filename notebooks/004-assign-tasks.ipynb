{
 "cells": [
  {
   "cell_type": "markdown",
   "metadata": {},
   "source": [
    "## 3. assign smaller tasks"
   ]
  },
  {
   "cell_type": "code",
   "execution_count": null,
   "metadata": {},
   "outputs": [],
   "source": [
    "from jkg_evaluators.assigners.separate_minors import dump_separated_minor_nb\n",
    "from jkg_evaluators.assigners.reassign_separated_minors import (\n",
    "    distribute_originals,\n",
    ")"
   ]
  },
  {
   "cell_type": "code",
   "execution_count": null,
   "metadata": {},
   "outputs": [],
   "source": [
    "notebook_path = \"003-small-tasks.ipynb\"\n",
    "output_directory = \"./separated_tasks\"\n",
    "task_name = \"course_7_initial_task\"\n",
    "members = [\n",
    "    \"lali\",\n",
    "    \"pali\",\n",
    "    \"kati\",\n",
    "    \"gabi\",\n",
    "    \"papi\",\n",
    "    \"tibi\",\n",
    "    \"juci\",\n",
    "    \"laci\",\n",
    "    \"feri\",\n",
    "    \"geri\",\n",
    "]\n",
    "zip_dir_path = \"./\""
   ]
  },
  {
   "cell_type": "code",
   "execution_count": null,
   "metadata": {},
   "outputs": [],
   "source": [
    "dump_separated_minor_nb(\n",
    "    notebook_path, output_directory, members, task_name, zip_dir_path\n",
    ")"
   ]
  },
  {
   "cell_type": "code",
   "execution_count": null,
   "metadata": {},
   "outputs": [],
   "source": [
    "distribute_originals(\n",
    "    original_directory=output_directory,\n",
    "    members=members,\n",
    "    task_name=task_name,\n",
    "    collective_task_name=\"round2\",\n",
    "    output_directory=\"course8_tasks\",\n",
    "    zip_dir_path=zip_dir_path,\n",
    ")"
   ]
  }
 ],
 "metadata": {
  "kernelspec": {
   "display_name": "Python 3",
   "language": "python",
   "name": "python3"
  },
  "language_info": {
   "codemirror_mode": {
    "name": "ipython",
    "version": 3
   },
   "file_extension": ".py",
   "mimetype": "text/x-python",
   "name": "python",
   "nbconvert_exporter": "python",
   "pygments_lexer": "ipython3",
   "version": "3.7.5"
  }
 },
 "nbformat": 4,
 "nbformat_minor": 2
}
