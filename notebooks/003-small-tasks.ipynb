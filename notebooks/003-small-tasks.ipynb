{
 "cells": [
  {
   "cell_type": "markdown",
   "metadata": {},
   "source": [
    "## 3. smaller tasks"
   ]
  },
  {
   "cell_type": "markdown",
   "metadata": {},
   "source": [
    "#### find the word with the most a's in it\n",
    "\n",
    "return the index of the word from a list of words that contains the highest number of the letter a (lower OR higher case, so the word Array contains 2). if none of the words contain any a's, return -1, if multiple contain the same amount return the index of the first one. (remember, indexing starts with zero)\n",
    "\n",
    "> ```[\"a\", \"aA\", \"abc\"] -> 1```"
   ]
  },
  {
   "cell_type": "code",
   "execution_count": null,
   "metadata": {},
   "outputs": [],
   "source": [
    "from jkg_evaluators import string_with_most_a_letters"
   ]
  },
  {
   "cell_type": "code",
   "execution_count": null,
   "metadata": {},
   "outputs": [],
   "source": [
    "def most_a_letters_solution(list_of_words):\n",
    "    # modify this function\n",
    "    return -1"
   ]
  },
  {
   "cell_type": "code",
   "execution_count": null,
   "metadata": {},
   "outputs": [],
   "source": [
    "string_with_most_a_letters.evaluate(most_a_letters_solution)"
   ]
  },
  {
   "cell_type": "markdown",
   "metadata": {},
   "source": [
    "#### find the two numbers in a list that produce the highest number as their multiple\n",
    "\n",
    "the numbers have to be two different numbers in the list, but if the same number occurs in the list twice, it can be used twice. return the result of the multiplications.\n",
    "\n",
    "> ```[1, 2, 3] -> 6```"
   ]
  },
  {
   "cell_type": "code",
   "execution_count": null,
   "metadata": {},
   "outputs": [],
   "source": [
    "from jkg_evaluators import largest_multiple"
   ]
  },
  {
   "cell_type": "code",
   "execution_count": null,
   "metadata": {},
   "outputs": [],
   "source": [
    "def find_largest_multiple(list_of_numbers):\n",
    "    # modify this function\n",
    "    return 0"
   ]
  },
  {
   "cell_type": "code",
   "execution_count": null,
   "metadata": {},
   "outputs": [],
   "source": [
    "largest_multiple.evaluate(find_largest_multiple)"
   ]
  },
  {
   "cell_type": "markdown",
   "metadata": {},
   "source": [
    "#### return the sum of distinct positive odd numbers from a list of numbers\n",
    "\n",
    "calculate from a list of integers, the sum of positive odd numbers, taking each different number only once.\n",
    "\n",
    "> ```[1, 1, 2, 3, 4] -> 1 + 3 = 4```"
   ]
  },
  {
   "cell_type": "code",
   "execution_count": null,
   "metadata": {},
   "outputs": [],
   "source": [
    "from jkg_evaluators import sum_odd_positives"
   ]
  },
  {
   "cell_type": "code",
   "execution_count": null,
   "metadata": {},
   "outputs": [],
   "source": [
    "def sum_solution(list_of_numbers):\n",
    "    # modify this function\n",
    "    return 1"
   ]
  },
  {
   "cell_type": "code",
   "execution_count": null,
   "metadata": {},
   "outputs": [],
   "source": [
    "sum_odd_positives.evaluate(sum_solution)"
   ]
  },
  {
   "cell_type": "markdown",
   "metadata": {},
   "source": [
    "#### find the largest number, where the digits are in ascending order\n",
    "\n",
    "from a list of integers, find the one that is the largest among the ones where the digits are in ascending order, if there is no such number, return 0\n",
    "\n",
    "> ```[10, 20, 7, 15] -> 15```"
   ]
  },
  {
   "cell_type": "code",
   "execution_count": null,
   "metadata": {},
   "outputs": [],
   "source": [
    "from jkg_evaluators import largest_ascending_num"
   ]
  },
  {
   "cell_type": "code",
   "execution_count": null,
   "metadata": {},
   "outputs": [],
   "source": [
    "def find_largest_ascending(list_of_numbers):\n",
    "    # modify this function\n",
    "    return 0"
   ]
  },
  {
   "cell_type": "code",
   "execution_count": null,
   "metadata": {},
   "outputs": [],
   "source": [
    "largest_ascending_num.evaluate(find_largest_ascending)"
   ]
  },
  {
   "cell_type": "markdown",
   "metadata": {},
   "source": [
    "#### find the number of strings in a list of strings that contain a given letter\n",
    "\n",
    "upper or lower case\n",
    "\n",
    "> ```[\"abfg\", \"Bcd\", \"Ijk\"], \"b\" -> 2```"
   ]
  },
  {
   "cell_type": "code",
   "execution_count": null,
   "metadata": {},
   "outputs": [],
   "source": [
    "from jkg_evaluators import letter_occurrences"
   ]
  },
  {
   "cell_type": "code",
   "execution_count": null,
   "metadata": {},
   "outputs": [],
   "source": [
    "def find_letter_occurrences(list_of_strings, letter):\n",
    "    # modify this function\n",
    "    return 2"
   ]
  },
  {
   "cell_type": "code",
   "execution_count": null,
   "metadata": {},
   "outputs": [],
   "source": [
    "letter_occurrences.evaluate(find_letter_occurrences)"
   ]
  },
  {
   "cell_type": "markdown",
   "metadata": {},
   "source": [
    "#### find the string that contains a given letter the largest number of times\n",
    "\n",
    "if none of the strings contain the letter, return an empty string.\n",
    "upper or lower case should be ignored. if multiple strings contain the letter the same amount of time, that is the highest, return the first one\n",
    "\n",
    "> ```[\"bAbB\", \"cad\", \"BBaaCc\"], \"B\" -> \"bAbB\"```"
   ]
  },
  {
   "cell_type": "code",
   "execution_count": null,
   "metadata": {},
   "outputs": [],
   "source": [
    "from jkg_evaluators import word_with_most_of_letters"
   ]
  },
  {
   "cell_type": "code",
   "execution_count": null,
   "metadata": {},
   "outputs": [],
   "source": [
    "def find_worth_with_most_of_letters(list_of_strings, letter):\n",
    "    # modify this function\n",
    "    return \"\""
   ]
  },
  {
   "cell_type": "code",
   "execution_count": null,
   "metadata": {},
   "outputs": [],
   "source": [
    "word_with_most_of_letters.evaluate(find_worth_with_most_of_letters)"
   ]
  },
  {
   "cell_type": "markdown",
   "metadata": {},
   "source": [
    "#### find the largest number from a list, that divided by a given number, results in an even number\n",
    "\n",
    "if no such number is in the list, return 0\n",
    "\n",
    "> ```[10, 15, 9, 38, 20], 2 -> 20```"
   ]
  },
  {
   "cell_type": "code",
   "execution_count": null,
   "metadata": {},
   "outputs": [],
   "source": [
    "from jkg_evaluators import largest_even_divided"
   ]
  },
  {
   "cell_type": "code",
   "execution_count": null,
   "metadata": {},
   "outputs": [],
   "source": [
    "def find_largest_even_divided(list_of_numbers, number):\n",
    "    # modify this function\n",
    "    return 0"
   ]
  },
  {
   "cell_type": "code",
   "execution_count": null,
   "metadata": {},
   "outputs": [],
   "source": [
    "largest_even_divided.evaluate(find_largest_even_divided)"
   ]
  },
  {
   "cell_type": "markdown",
   "metadata": {},
   "source": [
    "#### find the smallest number in a list, the double of which is also in the list\n",
    "\n",
    "id there is no such number, return 0\n",
    "\n",
    "> ```[1, 3, 7, 6, 15, 12, 20, 2] -> 3```\n",
    "\n",
    "(as 6 is also in the list)"
   ]
  },
  {
   "cell_type": "code",
   "execution_count": null,
   "metadata": {},
   "outputs": [],
   "source": [
    "from jkg_evaluators import smallest_where_double_also"
   ]
  },
  {
   "cell_type": "code",
   "execution_count": null,
   "metadata": {},
   "outputs": [],
   "source": [
    "def find_smallest_where_double(list_of_numbers):\n",
    "    # modify this function\n",
    "    return 0"
   ]
  },
  {
   "cell_type": "code",
   "execution_count": null,
   "metadata": {},
   "outputs": [],
   "source": [
    "smallest_where_double_also.evaluate(find_smallest_where_double)"
   ]
  },
  {
   "cell_type": "markdown",
   "metadata": {},
   "source": [
    "#### find the last number in a list that has a difference from a given number that is a multiple of 3\n",
    "\n",
    "if there is no such number, return 0.\n",
    "\n",
    "> ```[1, 4, -5, 3, 9, 11, 7, 6, 4, 9], 10 -> 4```\n",
    "\n",
    "beacause 10 - 4 = 6 that is a multiple of 3. although 10 -1 = 9 which is also a multiple of 3, that number occurs earlier in the list and we're looking for the last number that satisfies this condition "
   ]
  },
  {
   "cell_type": "code",
   "execution_count": null,
   "metadata": {},
   "outputs": [],
   "source": [
    "from jkg_evaluators import last_with_three_multiple_difference"
   ]
  },
  {
   "cell_type": "code",
   "execution_count": null,
   "metadata": {},
   "outputs": [],
   "source": [
    "def find_last_with_three_multi_diff(list_of_numbers, number):\n",
    "    # modify this function\n",
    "    return 0"
   ]
  },
  {
   "cell_type": "code",
   "execution_count": null,
   "metadata": {},
   "outputs": [],
   "source": [
    "last_with_three_multiple_difference.evaluate(find_last_with_three_multi_diff)"
   ]
  },
  {
   "cell_type": "markdown",
   "metadata": {},
   "source": [
    "#### find the longest string in a list of words that contains the same letter at least three times\n",
    "\n",
    "if there is no such string, return \"\", if there are multiple words that have same length and have at least 3 of the same letter, return the first one. uppercase/lowercase does NOT matter\n",
    "\n",
    "> ```[\"aBab\", \"ccaakjiHzuitg\", \"cacCrg\", \"hhhj\", \"aBGKi\"] -> \"caccrg\"```\n",
    "\n",
    "although `\"ccaakjihzuitg\"` is longer, there is no letter that appears three times in it."
   ]
  },
  {
   "cell_type": "code",
   "execution_count": null,
   "metadata": {},
   "outputs": [],
   "source": [
    "from jkg_evaluators import longest_with_three_same_letters"
   ]
  },
  {
   "cell_type": "code",
   "execution_count": null,
   "metadata": {},
   "outputs": [],
   "source": [
    "def find_longest_with_three_same_letters(list_of_words):\n",
    "    # modify this function\n",
    "    return \"\""
   ]
  },
  {
   "cell_type": "code",
   "execution_count": null,
   "metadata": {},
   "outputs": [],
   "source": [
    "longest_with_three_same_letters.evaluate(find_longest_with_three_same_letters)"
   ]
  }
 ],
 "metadata": {
  "kernelspec": {
   "display_name": "Python 3",
   "language": "python",
   "name": "python3"
  },
  "language_info": {
   "codemirror_mode": {
    "name": "ipython",
    "version": 3
   },
   "file_extension": ".py",
   "mimetype": "text/x-python",
   "name": "python",
   "nbconvert_exporter": "python",
   "pygments_lexer": "ipython3",
   "version": "3.7.5"
  }
 },
 "nbformat": 4,
 "nbformat_minor": 2
}
