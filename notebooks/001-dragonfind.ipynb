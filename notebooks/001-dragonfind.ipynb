{
 "cells": [
  {
   "cell_type": "markdown",
   "metadata": {},
   "source": [
    "\n",
    "## 1. dragon finding challenge"
   ]
  },
  {
   "cell_type": "markdown",
   "metadata": {},
   "source": [
    "> we need to find a dragon in the kingdom that is eating the cows. the dragon starts with the largest cow and works its way towards the smaller ones. we have a list of cows by their size due to the annual cow weighing championships, we can use that to find the cow where the dragon is expected next."
   ]
  },
  {
   "cell_type": "markdown",
   "metadata": {},
   "source": [
    "a solution is a function where\n",
    "\n",
    "parameters:\n",
    "\n",
    "- is_dead: function\n",
    "  - it takes an integer parameter of the cows rank in the weight contest and returns a boolean value of whether a cow is dead or not\n",
    "- number_of_cows: int\n",
    "  - the number of cows in the kingdom\n",
    "\n",
    "returns:\n",
    "\n",
    "- an integer, the rank of the largest (the one with the smallest rank) cow that is alive\n",
    "\n",
    "and it checks the least amount of cows possible"
   ]
  },
  {
   "cell_type": "code",
   "execution_count": 1,
   "metadata": {},
   "outputs": [],
   "source": [
    "from jkg_evaluators import dragonfind_10_to_500"
   ]
  },
  {
   "cell_type": "code",
   "execution_count": 2,
   "metadata": {},
   "outputs": [],
   "source": [
    "def my_solution1(is_dead, number_of_cows):\n",
    "\n",
    "    for i in range(1, number_of_cows):\n",
    "        if not is_dead(i):\n",
    "            return i"
   ]
  },
  {
   "cell_type": "code",
   "execution_count": 3,
   "metadata": {},
   "outputs": [
    {
     "name": "stdout",
     "output_type": "stream",
     "text": [
      "- success rate: 124714/124714 (100.0%)\n",
      "- error count: 0\n",
      "- best performance: 1\n",
      "- worst performance: 499\n",
      "- mean performance: 167.04724409448818\n"
     ]
    }
   ],
   "source": [
    "dragonfind_10_to_500.evaluate(my_solution1)"
   ]
  },
  {
   "cell_type": "code",
   "execution_count": 8,
   "metadata": {},
   "outputs": [
    {
     "data": {
      "image/png": "[encoded data removed]",
      "text/plain": [
       "<Figure size 792x504 with 1 Axes>"
      ]
     },
     "metadata": {
      "needs_background": "light"
     },
     "output_type": "display_data"
    }
   ],
   "source": [
    "dragonfind_10_to_500.visualize(my_solution1)"
   ]
  },
  {
   "cell_type": "code",
   "execution_count": 5,
   "metadata": {},
   "outputs": [],
   "source": [
    "def my_solution2(is_dead, number_of_cows):\n",
    "\n",
    "    middle_cow = int(number_of_cows / 2)\n",
    "\n",
    "    if is_dead(middle_cow):\n",
    "\n",
    "        for i in range(middle_cow, number_of_cows - 1):\n",
    "            if not is_dead(i):\n",
    "                return i\n",
    "\n",
    "    else:\n",
    "\n",
    "        for i in range(1, middle_cow):\n",
    "            if not is_dead(i):\n",
    "                return i"
   ]
  },
  {
   "cell_type": "code",
   "execution_count": 6,
   "metadata": {},
   "outputs": [
    {
     "name": "stdout",
     "output_type": "stream",
     "text": [
      "- success rate: 123732/124714 (99.0%)\n",
      "- error count: 0\n",
      "- best performance: 2\n",
      "- worst performance: 250\n",
      "- mean performance: 85.26525490321856\n",
      "\n",
      "\n",
      " BAD SOLUTION at: \n",
      " {'number_of_cows': 10, 'dragon_coming_to': 5}\n",
      "\n",
      "\n",
      " BAD SOLUTION at: \n",
      " {'number_of_cows': 10, 'dragon_coming_to': 9}\n",
      "\n",
      "\n",
      " BAD SOLUTION at: \n",
      " {'number_of_cows': 11, 'dragon_coming_to': 5}\n",
      "\n",
      "\n",
      " BAD SOLUTION at: \n",
      " {'number_of_cows': 11, 'dragon_coming_to': 10}\n",
      "\n",
      "\n",
      " BAD SOLUTION at: \n",
      " {'number_of_cows': 12, 'dragon_coming_to': 6}\n",
      "\n",
      "\n",
      " BAD SOLUTION at: \n",
      " {'number_of_cows': 12, 'dragon_coming_to': 11}\n",
      "\n",
      "\n",
      " BAD SOLUTION at: \n",
      " {'number_of_cows': 13, 'dragon_coming_to': 6}\n",
      "\n",
      "\n",
      " BAD SOLUTION at: \n",
      " {'number_of_cows': 13, 'dragon_coming_to': 12}\n",
      "\n",
      "\n",
      " BAD SOLUTION at: \n",
      " {'number_of_cows': 14, 'dragon_coming_to': 7}\n",
      "\n",
      "\n",
      " BAD SOLUTION at: \n",
      " {'number_of_cows': 14, 'dragon_coming_to': 13}\n"
     ]
    }
   ],
   "source": [
    "dragonfind_10_to_500.evaluate(my_solution2)"
   ]
  },
  {
   "cell_type": "code",
   "execution_count": 7,
   "metadata": {},
   "outputs": [
    {
     "name": "stderr",
     "output_type": "stream",
     "text": [
      "/home/borza/Dropbox/Programs/good-projects/jelm_knowledge_graph_tools/jelm_tool_venv/lib/python3.7/site-packages/IPython/core/pylabtools.py:128: UserWarning: Creating legend with loc=\"best\" can be slow with large amounts of data.\n",
      "  fig.canvas.print_figure(bytes_io, **kw)\n"
     ]
    },
    {
     "data": {
      "image/png": "[encoded data removed]",
      "text/plain": [
       "<Figure size 792x504 with 1 Axes>"
      ]
     },
     "metadata": {
      "needs_background": "light"
     },
     "output_type": "display_data"
    }
   ],
   "source": [
    "dragonfind_10_to_500.visualize(my_solution2)"
   ]
  }
 ],
 "metadata": {
  "kernelspec": {
   "display_name": "Python 3",
   "language": "python",
   "name": "python3"
  },
  "language_info": {
   "codemirror_mode": {
    "name": "ipython",
    "version": 3
   },
   "file_extension": ".py",
   "mimetype": "text/x-python",
   "name": "python",
   "nbconvert_exporter": "python",
   "pygments_lexer": "ipython3",
   "version": "3.7.5"
  }
 },
 "nbformat": 4,
 "nbformat_minor": 2
}
